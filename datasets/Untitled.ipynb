{
 "cells": [
  {
   "cell_type": "code",
   "execution_count": 1,
   "metadata": {},
   "outputs": [],
   "source": [
    "dict1 = {'key1':1, 'key2':2, 'key3':3, 'key4':4}"
   ]
  },
  {
   "cell_type": "code",
   "execution_count": 2,
   "metadata": {},
   "outputs": [],
   "source": [
    "lst = ['key2', 'key3']"
   ]
  },
  {
   "cell_type": "code",
   "execution_count": null,
   "metadata": {},
   "outputs": [],
   "source": [
    "filt_dict = {f}"
   ]
  },
  {
   "cell_type": "code",
   "execution_count": 5,
   "metadata": {},
   "outputs": [
    {
     "data": {
      "text/plain": [
       "{'key2': 2, 'key3': 3}"
      ]
     },
     "execution_count": 5,
     "metadata": {},
     "output_type": "execute_result"
    }
   ],
   "source": [
    "{key:dict1[key] for key in lst}"
   ]
  },
  {
   "cell_type": "code",
   "execution_count": 6,
   "metadata": {},
   "outputs": [],
   "source": [
    "batting_tooltip = {\n",
    "                    'yearID':['Year of Play'],\n",
    "                    'lgID':['Baseball League Id'],\n",
    "                    'Name':['Player Name'],\n",
    "                    'Team':['Team Name'],\n",
    "                    'PA':['Plate Appearances'],\n",
    "                    'AB':['At Bats'],\n",
    "                    'HR':['Home Runs'],\n",
    "                    'H':['Hits'],\n",
    "                    'X2B':['Second Bases'],\n",
    "                    'X3B':['Third Bases'],\n",
    "                    'RBI':['Runs Batted In'],\n",
    "                    'SB':['Stolen Bases'],\n",
    "                    'ISO':['Isolated Power'],\n",
    "                    'BABIP':['Batting Average on Balls in Play'],\n",
    "                    'AVG':['Number of Hits divided by At Bats'],\n",
    "                    'OBP': ['On Base Percentage'],\n",
    "                    'SLG': ['Slugging Percentage'],\n",
    "                    'wOBA': ['Weighted On Base Average'],\n",
    "                    'wRC.': ['Weighted Runs Created Plus'],\n",
    "                    'fWAR': ['Wins Above Replacement'],\n",
    "                    'CS': ['Caught Stealing'],\n",
    "                    'BB.': ['Base on Balls percentage'],\n",
    "                    'K.': ['Strikeout percentage'],\n",
    "                    'Off': ['Offense'],\n",
    "                    'Def':['Defense']\n",
    "}"
   ]
  },
  {
   "cell_type": "code",
   "execution_count": 7,
   "metadata": {},
   "outputs": [],
   "source": [
    "metrics = ['yearID','Team','PA','AB','HR','H','X2B','X3B','RBI','SB','ISO','BABIP','fWAR']"
   ]
  },
  {
   "cell_type": "code",
   "execution_count": 8,
   "metadata": {},
   "outputs": [
    {
     "data": {
      "text/plain": [
       "{'yearID': ['Year of Play'],\n",
       " 'Team': ['Team Name'],\n",
       " 'PA': ['Plate Appearances'],\n",
       " 'AB': ['At Bats'],\n",
       " 'HR': ['Home Runs'],\n",
       " 'H': ['Hits'],\n",
       " 'X2B': ['Second Bases'],\n",
       " 'X3B': ['Third Bases'],\n",
       " 'RBI': ['Runs Batted In'],\n",
       " 'SB': ['Stolen Bases'],\n",
       " 'ISO': ['Isolated Power'],\n",
       " 'BABIP': ['Batting Average on Balls in Play'],\n",
       " 'fWAR': ['Wins Above Replacement']}"
      ]
     },
     "execution_count": 8,
     "metadata": {},
     "output_type": "execute_result"
    }
   ],
   "source": [
    "{key:batting_tooltip[key] for key in metrics}"
   ]
  }
 ],
 "metadata": {
  "kernelspec": {
   "display_name": "Python 3",
   "language": "python",
   "name": "python3"
  },
  "language_info": {
   "codemirror_mode": {
    "name": "ipython",
    "version": 3
   },
   "file_extension": ".py",
   "mimetype": "text/x-python",
   "name": "python",
   "nbconvert_exporter": "python",
   "pygments_lexer": "ipython3",
   "version": "3.7.6"
  }
 },
 "nbformat": 4,
 "nbformat_minor": 4
}
